{
 "cells": [
  {
   "cell_type": "code",
   "execution_count": 2,
   "metadata": {
    "ExecuteTime": {
     "end_time": "2019-12-10T19:53:40.152014Z",
     "start_time": "2019-12-10T19:53:37.429579Z"
    }
   },
   "outputs": [],
   "source": [
    "import numpy as np\n",
    "import matplotlib.pyplot as plt\n",
    "from enum import Enum, auto\n",
    "import matplotlib.pyplot as plt"
   ]
  },
  {
   "cell_type": "code",
   "execution_count": 3,
   "metadata": {
    "ExecuteTime": {
     "end_time": "2019-12-10T19:53:40.218312Z",
     "start_time": "2019-12-10T19:53:40.170729Z"
    }
   },
   "outputs": [],
   "source": [
    "class Fuzzy(Enum):\n",
    "    SIZE = auto()\n",
    "    TIME = auto()\n",
    "    TEMPURETURE = auto()\n",
    "    DONENESS = auto()\n",
    "    \n",
    "class SIZELVL(Enum):\n",
    "    SMALL = auto()\n",
    "    MEDIUM = auto()\n",
    "    BIG = auto()\n",
    "\n",
    "class TIMELVL(Enum):\n",
    "    SHORT = auto()\n",
    "    MEDIUM = auto()\n",
    "    LONG = auto()\n",
    "    \n",
    "class TEMPLVL(Enum):\n",
    "    MODERATE = auto()\n",
    "    WARM = auto()\n",
    "    VERY_WARM = auto()\n",
    "    HOT = auto()\n",
    "    SCORCHING = auto()\n",
    "\n",
    "class DONELVL(Enum):\n",
    "    RARE = auto()\n",
    "    MEDIUM_RARE = auto()\n",
    "    MEDIUM = auto()\n",
    "    MEDIUM_WELL = auto()\n",
    "    WELL_DONE = auto()\n",
    "    \n",
    "class range_step :\n",
    "    def __init__(self,start,end,step):\n",
    "        self.start = start\n",
    "        self.end = end\n",
    "        self.step =step\n",
    "        \n",
    "class Rule :\n",
    "    def __init__(self,ifRule,thenRule):\n",
    "        self.ifRule = ifRule\n",
    "        self.thenRule = thenRule    \n",
    "\n",
    "class RuleData :\n",
    "    def __init__(self,fuzzy,level) :\n",
    "        self.fuzzy = fuzzy\n",
    "        self.level = level\n",
    "        \n",
    "class Data :\n",
    "    def __init__(self,name,RangeDat):\n",
    "        self.name = name\n",
    "        self.RangeDat = RangeDat"
   ]
  },
  {
   "cell_type": "code",
   "execution_count": 4,
   "metadata": {
    "ExecuteTime": {
     "end_time": "2019-12-10T19:53:40.362075Z",
     "start_time": "2019-12-10T19:53:40.236289Z"
    }
   },
   "outputs": [],
   "source": [
    "class Graph :\n",
    "    \n",
    "    def __init__(self,start,end) :\n",
    "        self.x_start = start\n",
    "        self.x_end = end\n",
    "        \n",
    "    def getFuzzyleft(self,x) :\n",
    "        m = 1/(self.x_start-self.x_end)\n",
    "        c = -m*self.x_end\n",
    "        y = m*x+c\n",
    "        if(y > 1) :\n",
    "            return 1\n",
    "        elif(y < 0):\n",
    "            return 0\n",
    "        else:\n",
    "            return y\n",
    "        \n",
    "    def getFuzzymid(self,x):\n",
    "        center = self.x_start + (self.x_end - self.x_start)/2\n",
    "        if(x < center) :\n",
    "            x_end = center \n",
    "            m = -1/(self.x_start-x_end)\n",
    "            c = -m*self.x_start\n",
    "            y = m*x+c\n",
    "            if(y > 1) :\n",
    "                return 1\n",
    "            elif(y < 0):\n",
    "                return 0\n",
    "            else:\n",
    "                return y\n",
    "        else :\n",
    "            x_start = center\n",
    "            m = 1/(x_start-self.x_end)\n",
    "            c = -m*self.x_end\n",
    "            y = m*x+c\n",
    "            if(y > 1) :\n",
    "                return 1\n",
    "            elif(y < 0):\n",
    "                return 0\n",
    "            else:\n",
    "                return y\n",
    "            \n",
    "    def getFuzzyright(self,x) :\n",
    "        m = -1/(self.x_start-self.x_end)\n",
    "        c = -m*self.x_start\n",
    "        y = m*x+c\n",
    "        if(y > 1) :\n",
    "            return 1\n",
    "        elif(y < 0):\n",
    "            return 0\n",
    "        else:\n",
    "            return y\n"
   ]
  },
  {
   "cell_type": "code",
   "execution_count": 5,
   "metadata": {
    "ExecuteTime": {
     "end_time": "2019-12-10T19:53:40.570483Z",
     "start_time": "2019-12-10T19:53:40.379716Z"
    }
   },
   "outputs": [],
   "source": [
    "def newRule(sizelvl,timelvl,templvl,donenesslvl):\n",
    "    ifRule = []\n",
    "\n",
    "    ifRule.append(RuleData(Fuzzy.SIZE,sizelvl))\n",
    "    ifRule.append(RuleData(Fuzzy.TIME,timelvl))\n",
    "    ifRule.append(RuleData(Fuzzy.TEMPURETURE,templvl))\n",
    "\n",
    "    thenRule = RuleData(Fuzzy.DONENESS,donenesslvl)\n",
    "    \n",
    "    return Rule(ifRule,thenRule)"
   ]
  },
  {
   "cell_type": "code",
   "execution_count": 6,
   "metadata": {
    "ExecuteTime": {
     "end_time": "2019-12-10T19:53:40.761675Z",
     "start_time": "2019-12-10T19:53:40.587714Z"
    }
   },
   "outputs": [],
   "source": [
    "c = [\"#1f77b4\", \"#ff7f0e\", \"#2ca02c\", \"#d62728\", \"#9467bd\", \"#8c564b\", \"#e377c2\", \"#7f7f7f\", \"#bcbd22\", \"#17becf\"]"
   ]
  },
  {
   "cell_type": "code",
   "execution_count": 7,
   "metadata": {
    "ExecuteTime": {
     "end_time": "2019-12-10T19:53:40.880692Z",
     "start_time": "2019-12-10T19:53:40.778982Z"
    }
   },
   "outputs": [],
   "source": [
    "def showSimulator(s,t,m,plot,maxinrule):\n",
    "    fig, axs = plt.subplots(1, 4, figsize=(15, 3), sharey=True)\n",
    "    axs[0].plot([0,40], [1,0],color=c[0])\n",
    "    axs[0].plot([30,65], [0,1],color=c[1])\n",
    "    axs[0].plot([65,100], [1,0],color=c[1])\n",
    "    axs[0].plot([90,130], [0,1],color=c[2])\n",
    "    axs[0].plot([0,s],[plot[0],plot[0]],color='black')\n",
    "    \n",
    "    axs[1].plot([0,50], [1,0],color=c[0])\n",
    "    axs[1].plot([40,80], [0,1],color=c[1])\n",
    "    axs[1].plot([80,120], [1,0],color=c[1])\n",
    "    axs[1].plot([110,160], [0,1],color=c[2])\n",
    "    axs[1].plot([0,t],[plot[1],plot[1]],color='black')\n",
    "    \n",
    "    axs[2].plot([0,30], [1,0],color=c[0])\n",
    "    axs[2].plot([25,35], [0,1],color=c[1])\n",
    "    axs[2].plot([35,45], [1,0],color=c[1])\n",
    "    axs[2].plot([40,50], [0,1],color=c[2])\n",
    "    axs[2].plot([50,60], [1,0],color=c[2])\n",
    "    axs[2].plot([55,65], [0,1],color=c[3])\n",
    "    axs[2].plot([65,75], [1,0],color=c[3])\n",
    "    axs[2].plot([70,100], [0,1],color=c[4])\n",
    "    axs[2].plot([0,m],[plot[2],plot[2]],color='black')\n",
    "\n",
    "    levelofoutput_split = [[0,0.2],[0.15,0.25],[0.25,0.35],[0.3,0.475],[0.475,0.65],[0.6,0.7],[0.7,0.8],[0.75,1]]\n",
    "    levelofoutput= [[0,0.2],[0.15,0.35],[0.3,0.65],[0.6,0.8],[0.75,1]]\n",
    "    axs[3].plot(levelofoutput_split[0], [1,0],color=c[0])\n",
    "    axs[3].plot(levelofoutput_split[1], [0,1],color=c[1])\n",
    "    axs[3].plot(levelofoutput_split[2], [1,0],color=c[1])\n",
    "    axs[3].plot(levelofoutput_split[3], [0,1],color=c[2])\n",
    "    axs[3].plot(levelofoutput_split[4], [1,0],color=c[2])\n",
    "    axs[3].plot(levelofoutput_split[5], [0,1],color=c[3])\n",
    "    axs[3].plot(levelofoutput_split[6], [1,0],color=c[3])\n",
    "    axs[3].plot(levelofoutput_split[7], [0,1],color=c[4])\n",
    "    for idx,val in enumerate(maxinrule):        \n",
    "        axs[3].plot(levelofoutput[idx],[val,val],color='black')\n",
    "    \n",
    "    plt.show()\n",
    "    \n",
    "def showSimulator_result(use_x,defuz):\n",
    "        \n",
    "    plt.plot([0,0.2], [1,0],color=c[0])\n",
    "    plt.plot([0.15,0.25], [0,1],color=c[1])\n",
    "    plt.plot([0.25,0.35], [1,0],color=c[1])\n",
    "    plt.plot([0.3,0.475], [0,1],color=c[2])\n",
    "    plt.plot([0.475,0.65], [1,0],color=c[2])\n",
    "    plt.plot([0.6,0.7], [0,1],color=c[3])\n",
    "    plt.plot([0.7,0.8], [1,0],color=c[3])\n",
    "    plt.plot([0.75,1], [0,1],color=c[4])\n",
    "    plt.plot([use_x[0],use_x[-1]],[defuz,defuz],color='black')\n",
    "    plt.show()"
   ]
  },
  {
   "cell_type": "code",
   "execution_count": 8,
   "metadata": {
    "ExecuteTime": {
     "end_time": "2019-12-10T19:53:40.976969Z",
     "start_time": "2019-12-10T19:53:40.898909Z"
    }
   },
   "outputs": [],
   "source": [
    "Size = {SIZELVL.SMALL : Graph(0,40),\n",
    "           SIZELVL.MEDIUM : Graph(30,100),\n",
    "           SIZELVL.BIG : Graph(90,130)}\n",
    "\n",
    "Time = {TIMELVL.SHORT : Graph(0,50),\n",
    "           TIMELVL.MEDIUM : Graph(40,120),\n",
    "           TIMELVL.LONG : Graph(110,160)}\n",
    "\n",
    "Tempureture = {TEMPLVL.MODERATE : Graph(0,30),\n",
    "                        TEMPLVL.WARM : Graph(25,45),\n",
    "                        TEMPLVL.VERY_WARM : Graph(40,60),\n",
    "                        TEMPLVL.HOT : Graph(55,75),\n",
    "                        TEMPLVL.SCORCHING : Graph(70,100)}\n",
    "\n",
    "Doneness = {DONELVL.RARE : Graph(0,0.2),\n",
    "                    DONELVL.MEDIUM_RARE : Graph(0.15,0.35),\n",
    "                    DONELVL.MEDIUM : Graph(0.3,0.65),\n",
    "                    DONELVL.MEDIUM_WELL : Graph(0.6,0.8),\n",
    "                    DONELVL.WELL_DONE : Graph(0.75,1)}\n",
    "\n",
    "Input = {Fuzzy.SIZE : Data(Size,range_step(0,130,1)),\n",
    "            Fuzzy.TIME : Data(Time,range_step(0,160,1)),\n",
    "            Fuzzy.TEMPURETURE : Data(Tempureture,range_step(0,100,1))}\n",
    "\n",
    "Output = {Fuzzy.DONENESS : Data(Doneness,range_step(0,1,0.01))}"
   ]
  },
  {
   "cell_type": "code",
   "execution_count": 9,
   "metadata": {
    "ExecuteTime": {
     "end_time": "2019-12-10T19:53:41.910946Z",
     "start_time": "2019-12-10T19:53:41.883375Z"
    }
   },
   "outputs": [],
   "source": [
    "Rules = []\n",
    "\n",
    "Rules.append(newRule(SIZELVL.SMALL,TIMELVL.SHORT,TEMPLVL.MODERATE,DONELVL.RARE))\n",
    "Rules.append(newRule(SIZELVL.SMALL,TIMELVL.SHORT,TEMPLVL.WARM,DONELVL.MEDIUM_RARE))\n",
    "Rules.append(newRule(SIZELVL.SMALL,TIMELVL.SHORT,TEMPLVL.VERY_WARM,DONELVL.MEDIUM_RARE))\n",
    "Rules.append(newRule(SIZELVL.SMALL,TIMELVL.SHORT,TEMPLVL.HOT,DONELVL.MEDIUM))\n",
    "Rules.append(newRule(SIZELVL.SMALL,TIMELVL.SHORT,TEMPLVL.SCORCHING,DONELVL.MEDIUM))\n",
    "Rules.append(newRule(SIZELVL.SMALL,TIMELVL.MEDIUM,TEMPLVL.MODERATE,DONELVL.MEDIUM_RARE))\n",
    "Rules.append(newRule(SIZELVL.SMALL,TIMELVL.MEDIUM,TEMPLVL.WARM,DONELVL.MEDIUM))\n",
    "Rules.append(newRule(SIZELVL.SMALL,TIMELVL.MEDIUM,TEMPLVL.VERY_WARM,DONELVL.MEDIUM))\n",
    "Rules.append(newRule(SIZELVL.SMALL,TIMELVL.MEDIUM,TEMPLVL.HOT,DONELVL.MEDIUM_WELL))\n",
    "Rules.append(newRule(SIZELVL.SMALL,TIMELVL.MEDIUM,TEMPLVL.SCORCHING,DONELVL.MEDIUM_WELL))\n",
    "Rules.append(newRule(SIZELVL.SMALL,TIMELVL.LONG,TEMPLVL.MODERATE,DONELVL.MEDIUM))\n",
    "Rules.append(newRule(SIZELVL.SMALL,TIMELVL.LONG,TEMPLVL.WARM,DONELVL.MEDIUM_WELL))\n",
    "Rules.append(newRule(SIZELVL.SMALL,TIMELVL.LONG,TEMPLVL.VERY_WARM,DONELVL.MEDIUM_WELL))\n",
    "Rules.append(newRule(SIZELVL.SMALL,TIMELVL.LONG,TEMPLVL.HOT,DONELVL.WELL_DONE))\n",
    "Rules.append(newRule(SIZELVL.SMALL,TIMELVL.LONG,TEMPLVL.SCORCHING,DONELVL.WELL_DONE))\n",
    "\n",
    "Rules.append(newRule(SIZELVL.MEDIUM,TIMELVL.SHORT,TEMPLVL.MODERATE,DONELVL.RARE))\n",
    "Rules.append(newRule(SIZELVL.MEDIUM,TIMELVL.SHORT,TEMPLVL.WARM,DONELVL.RARE))\n",
    "Rules.append(newRule(SIZELVL.MEDIUM,TIMELVL.SHORT,TEMPLVL.VERY_WARM,DONELVL.MEDIUM_RARE))\n",
    "Rules.append(newRule(SIZELVL.MEDIUM,TIMELVL.SHORT,TEMPLVL.HOT,DONELVL.MEDIUM_RARE))\n",
    "Rules.append(newRule(SIZELVL.MEDIUM,TIMELVL.SHORT,TEMPLVL.SCORCHING,DONELVL.MEDIUM))\n",
    "Rules.append(newRule(SIZELVL.MEDIUM,TIMELVL.MEDIUM,TEMPLVL.MODERATE,DONELVL.MEDIUM_RARE))\n",
    "Rules.append(newRule(SIZELVL.MEDIUM,TIMELVL.MEDIUM,TEMPLVL.WARM,DONELVL.MEDIUM_RARE))\n",
    "Rules.append(newRule(SIZELVL.MEDIUM,TIMELVL.MEDIUM,TEMPLVL.VERY_WARM,DONELVL.MEDIUM))\n",
    "Rules.append(newRule(SIZELVL.MEDIUM,TIMELVL.MEDIUM,TEMPLVL.HOT,DONELVL.MEDIUM))\n",
    "Rules.append(newRule(SIZELVL.MEDIUM,TIMELVL.MEDIUM,TEMPLVL.SCORCHING,DONELVL.MEDIUM_WELL))\n",
    "Rules.append(newRule(SIZELVL.MEDIUM,TIMELVL.LONG,TEMPLVL.MODERATE,DONELVL.MEDIUM))\n",
    "Rules.append(newRule(SIZELVL.MEDIUM,TIMELVL.LONG,TEMPLVL.WARM,DONELVL.MEDIUM))\n",
    "Rules.append(newRule(SIZELVL.MEDIUM,TIMELVL.LONG,TEMPLVL.VERY_WARM,DONELVL.MEDIUM_WELL))\n",
    "Rules.append(newRule(SIZELVL.MEDIUM,TIMELVL.LONG,TEMPLVL.HOT,DONELVL.MEDIUM_WELL))\n",
    "Rules.append(newRule(SIZELVL.MEDIUM,TIMELVL.LONG,TEMPLVL.SCORCHING,DONELVL.WELL_DONE))\n",
    "\n",
    "Rules.append(newRule(SIZELVL.BIG,TIMELVL.SHORT,TEMPLVL.MODERATE,DONELVL.RARE))\n",
    "Rules.append(newRule(SIZELVL.BIG,TIMELVL.SHORT,TEMPLVL.WARM,DONELVL.RARE))\n",
    "Rules.append(newRule(SIZELVL.BIG,TIMELVL.SHORT,TEMPLVL.VERY_WARM,DONELVL.RARE))\n",
    "Rules.append(newRule(SIZELVL.BIG,TIMELVL.SHORT,TEMPLVL.HOT,DONELVL.MEDIUM_RARE))\n",
    "Rules.append(newRule(SIZELVL.BIG,TIMELVL.SHORT,TEMPLVL.SCORCHING,DONELVL.MEDIUM_RARE))\n",
    "Rules.append(newRule(SIZELVL.BIG,TIMELVL.MEDIUM,TEMPLVL.MODERATE,DONELVL.MEDIUM_RARE))\n",
    "Rules.append(newRule(SIZELVL.BIG,TIMELVL.MEDIUM,TEMPLVL.WARM,DONELVL.MEDIUM_RARE))\n",
    "Rules.append(newRule(SIZELVL.BIG,TIMELVL.MEDIUM,TEMPLVL.VERY_WARM,DONELVL.MEDIUM_RARE))\n",
    "Rules.append(newRule(SIZELVL.BIG,TIMELVL.MEDIUM,TEMPLVL.HOT,DONELVL.MEDIUM))\n",
    "Rules.append(newRule(SIZELVL.BIG,TIMELVL.MEDIUM,TEMPLVL.SCORCHING,DONELVL.MEDIUM))\n",
    "Rules.append(newRule(SIZELVL.BIG,TIMELVL.LONG,TEMPLVL.MODERATE,DONELVL.MEDIUM))\n",
    "Rules.append(newRule(SIZELVL.BIG,TIMELVL.LONG,TEMPLVL.WARM,DONELVL.MEDIUM))\n",
    "Rules.append(newRule(SIZELVL.BIG,TIMELVL.LONG,TEMPLVL.VERY_WARM,DONELVL.MEDIUM))\n",
    "Rules.append(newRule(SIZELVL.BIG,TIMELVL.LONG,TEMPLVL.HOT,DONELVL.MEDIUM_WELL))\n",
    "Rules.append(newRule(SIZELVL.BIG,TIMELVL.LONG,TEMPLVL.SCORCHING,DONELVL.MEDIUM_WELL))"
   ]
  },
  {
   "cell_type": "code",
   "execution_count": 10,
   "metadata": {
    "ExecuteTime": {
     "end_time": "2019-12-10T19:53:42.499184Z",
     "start_time": "2019-12-10T19:53:42.462677Z"
    },
    "code_folding": [],
    "run_control": {
     "marked": true
    }
   },
   "outputs": [],
   "source": [
    "class SousVideFuzzyLogic :\n",
    "    def __init__(self,input_data,output_data,rules):\n",
    "        self.input_data = input_data\n",
    "        self.output_data = output_data\n",
    "        self.rules = rules \n",
    "    \n",
    "    def defuzzifier(self,size,time,temp):\n",
    "\n",
    "        maxInRule = np.zeros(5)\n",
    "        plot = np.zeros(3)\n",
    "        \n",
    "        for rule in self.rules:\n",
    "            minInRule = 1\n",
    "            for ruleData in rule.ifRule :\n",
    "                done = 0 \n",
    "                if(ruleData.fuzzy == Fuzzy.SIZE):\n",
    "                    if(ruleData.level == SIZELVL.SMALL):\n",
    "                        done = (self.input_data[Fuzzy.SIZE]).name[SIZELVL.SMALL].getFuzzyleft(size)\n",
    "                    if(ruleData.level == SIZELVL.MEDIUM):\n",
    "                        done = (self.input_data[Fuzzy.SIZE]).name[SIZELVL.MEDIUM].getFuzzymid(size)\n",
    "                    if(ruleData.level == SIZELVL.BIG):\n",
    "                        done = (self.input_data[Fuzzy.SIZE]).name[SIZELVL.BIG].getFuzzyright(size)\n",
    "                    plot[0] = done \n",
    "                    \n",
    "                elif(ruleData.fuzzy == Fuzzy.TIME):\n",
    "                    if(ruleData.level == TIMELVL.SHORT):\n",
    "                        done = (self.input_data[Fuzzy.TIME]).name[TIMELVL.SHORT].getFuzzyleft(time)\n",
    "                    if(ruleData.level == TIMELVL.MEDIUM):\n",
    "                        done = (self.input_data[Fuzzy.TIME]).name[TIMELVL.MEDIUM].getFuzzymid(time)\n",
    "                    if(ruleData.level == TIMELVL.LONG):\n",
    "                        done = (self.input_data[Fuzzy.TIME]).name[TIMELVL.LONG].getFuzzyright(time)\n",
    "                    plot[1] = done \n",
    "                    \n",
    "                elif(ruleData.fuzzy == Fuzzy.TEMPURETURE):\n",
    "                    if(ruleData.level == TEMPLVL.MODERATE):\n",
    "                        done = (self.input_data[Fuzzy.TEMPURETURE]).name[TEMPLVL.MODERATE].getFuzzyleft(temp)\n",
    "                    if(ruleData.level == TEMPLVL.WARM):\n",
    "                        done = (self.input_data[Fuzzy.TEMPURETURE]).name[TEMPLVL.WARM].getFuzzymid(temp)\n",
    "                    if(ruleData.level == TEMPLVL.VERY_WARM):\n",
    "                        done = (self.input_data[Fuzzy.TEMPURETURE]).name[TEMPLVL.VERY_WARM].getFuzzymid(temp)\n",
    "                    if(ruleData.level == TEMPLVL.HOT):\n",
    "                        done = (self.input_data[Fuzzy.TEMPURETURE]).name[TEMPLVL.HOT].getFuzzymid(temp)\n",
    "                    if(ruleData.level == TEMPLVL.SCORCHING):\n",
    "                        done = (self.input_data[Fuzzy.TEMPURETURE]).name[TEMPLVL.SCORCHING].getFuzzyright(temp) \n",
    "                    plot[2] = done\n",
    "                        \n",
    "                if(minInRule > done and done >= 0):\n",
    "                    minInRule = done\n",
    "\n",
    "            if(rule.thenRule.level == DONELVL.RARE):\n",
    "                if(maxInRule[0] < minInRule):\n",
    "                    maxInRule[0] = minInRule\n",
    "            elif(rule.thenRule.level == DONELVL.MEDIUM_RARE):\n",
    "                if(maxInRule[1] < minInRule):\n",
    "                    maxInRule[1] = minInRule\n",
    "            elif(rule.thenRule.level == DONELVL.MEDIUM):\n",
    "                if(maxInRule[2] < minInRule):\n",
    "                    maxInRule[2] = minInRule\n",
    "            elif(rule.thenRule.level == DONELVL.MEDIUM_WELL):\n",
    "                if(maxInRule[3] < minInRule):\n",
    "                    maxInRule[3] = minInRule\n",
    "            elif(rule.thenRule.level == DONELVL.WELL_DONE):\n",
    "                if(maxInRule[4] < minInRule):\n",
    "                    maxInRule[4] = minInRule\n",
    "                    \n",
    "#             showSimulator(size,time,temp,plot,maxInRule)\n",
    "                        \n",
    "        start_out = self.output_data[Fuzzy.DONENESS].RangeDat.start\n",
    "        end_out = self.output_data[Fuzzy.DONENESS].RangeDat.end\n",
    "        step_out = self.output_data[Fuzzy.DONENESS].RangeDat.step\n",
    "        \n",
    "        start = []\n",
    "        end =[]\n",
    "        for i in DONELVL :\n",
    "            start.append(self.output_data[Fuzzy.DONENESS].name[i].x_start)\n",
    "            end.append(self.output_data[Fuzzy.DONENESS].name[i].x_end)\n",
    "            \n",
    "        defuzzi = np.zeros(2)\n",
    "        use_x = []\n",
    "        for x in range(start_out*100,end_out*100,int(step_out*100)):\n",
    "            \n",
    "            x = x/100\n",
    "            y = np.zeros(5)\n",
    "    \n",
    "            if(x <= end[0]):\n",
    "                y[0] = self.output_data[Fuzzy.DONENESS].name[DONELVL.RARE].getFuzzyleft(x)\n",
    "                if(y[0] > maxInRule[0]):\n",
    "                    y[0] = maxInRule[0]\n",
    "            if(x >= start[1] and x <= end[1]):\n",
    "                y[0] = self.output_data[Fuzzy.DONENESS].name[DONELVL.MEDIUM_RARE].getFuzzymid(x)\n",
    "                if(y[1] > maxInRule[1]):\n",
    "                    y[1] = maxInRule[1]\n",
    "            if(x >= start[2] and x <= end[2]):\n",
    "                y[2] = self.output_data[Fuzzy.DONENESS].name[DONELVL.MEDIUM].getFuzzymid(x)\n",
    "                if(y[2] > maxInRule[2]):\n",
    "                    y[2] = maxInRule[2]\n",
    "            if(x >= start[3] and x <= end[3]):\n",
    "                y[3] = self.output_data[Fuzzy.DONENESS].name[DONELVL.MEDIUM_WELL].getFuzzymid(x)\n",
    "                if(y[3] > maxInRule[3]):\n",
    "                    y[3] = maxInRule[3]\n",
    "            if(x >= start[4]):\n",
    "                y[4] = self.output_data[Fuzzy.DONENESS].name[DONELVL.WELL_DONE].getFuzzyright(x)\n",
    "                if(y[4] > maxInRule[4]):\n",
    "                    y[4] = maxInRule[4]\n",
    "            \n",
    "            maximum = np.max(y)\n",
    "            if(maximum > 0):\n",
    "                use_x.append([x,maximum])\n",
    "                \n",
    "            defuzzi[0] += maximum*x\n",
    "            defuzzi[1] += maximum\n",
    "            \n",
    "        if(defuzzi[1] == 0):\n",
    "            defuzzi[1] = 1\n",
    "#         print(use_x)\n",
    "#         showSimulator_result(use_x,defuzzi[0]/defuzzi[1])\n",
    "        \n",
    "        return defuzzi[0]/defuzzi[1]\n",
    "    "
   ]
  },
  {
   "cell_type": "code",
   "execution_count": 18,
   "metadata": {
    "ExecuteTime": {
     "end_time": "2019-12-10T19:55:19.750252Z",
     "start_time": "2019-12-10T19:55:19.741237Z"
    },
    "scrolled": true
   },
   "outputs": [
    {
     "data": {
      "text/plain": [
       "0.20533834586466163"
      ]
     },
     "execution_count": 18,
     "metadata": {},
     "output_type": "execute_result"
    }
   ],
   "source": [
    "souvidefuzzy = SousVideFuzzyLogic(Input,Output,Rules)\n",
    "souvidefuzzy.defuzzifier(130,39,49)"
   ]
  }
 ],
 "metadata": {
  "kernelspec": {
   "display_name": "Python 3",
   "language": "python",
   "name": "python3"
  },
  "language_info": {
   "codemirror_mode": {
    "name": "ipython",
    "version": 3
   },
   "file_extension": ".py",
   "mimetype": "text/x-python",
   "name": "python",
   "nbconvert_exporter": "python",
   "pygments_lexer": "ipython3",
   "version": "3.7.3"
  },
  "varInspector": {
   "cols": {
    "lenName": 16,
    "lenType": 16,
    "lenVar": 40
   },
   "kernels_config": {
    "python": {
     "delete_cmd_postfix": "",
     "delete_cmd_prefix": "del ",
     "library": "var_list.py",
     "varRefreshCmd": "print(var_dic_list())"
    },
    "r": {
     "delete_cmd_postfix": ") ",
     "delete_cmd_prefix": "rm(",
     "library": "var_list.r",
     "varRefreshCmd": "cat(var_dic_list()) "
    }
   },
   "types_to_exclude": [
    "module",
    "function",
    "builtin_function_or_method",
    "instance",
    "_Feature"
   ],
   "window_display": false
  }
 },
 "nbformat": 4,
 "nbformat_minor": 2
}
